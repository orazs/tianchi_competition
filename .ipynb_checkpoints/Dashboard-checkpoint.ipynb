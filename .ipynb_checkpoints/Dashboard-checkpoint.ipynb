{
 "cells": [
  {
   "cell_type": "code",
   "execution_count": 17,
   "id": "b327abba-4346-4760-815f-967067dff2ae",
   "metadata": {},
   "outputs": [],
   "source": [
    "import pandas as pd\n",
    "import numpy as np\n",
    "import mercury as mr\n",
    "import dash\n",
    "from  plotnine import *\n",
    "import patchworklib"
   ]
  },
  {
   "cell_type": "code",
   "execution_count": 7,
   "id": "05b6797a-4350-404f-921b-367e15804420",
   "metadata": {},
   "outputs": [
    {
     "data": {
      "text/html": [
       "<div>\n",
       "<style scoped>\n",
       "    .dataframe tbody tr th:only-of-type {\n",
       "        vertical-align: middle;\n",
       "    }\n",
       "\n",
       "    .dataframe tbody tr th {\n",
       "        vertical-align: top;\n",
       "    }\n",
       "\n",
       "    .dataframe thead th {\n",
       "        text-align: right;\n",
       "    }\n",
       "</style>\n",
       "<table border=\"1\" class=\"dataframe\">\n",
       "  <thead>\n",
       "    <tr style=\"text-align: right;\">\n",
       "      <th></th>\n",
       "      <th>person_id</th>\n",
       "      <th>industry</th>\n",
       "      <th>gender</th>\n",
       "      <th>inferred_salary</th>\n",
       "      <th>level</th>\n",
       "      <th>tenure</th>\n",
       "      <th>tenure_percentile</th>\n",
       "      <th>salary_percentile</th>\n",
       "    </tr>\n",
       "  </thead>\n",
       "  <tbody>\n",
       "    <tr>\n",
       "      <th>0</th>\n",
       "      <td>412445546</td>\n",
       "      <td>apparel &amp; fashion</td>\n",
       "      <td>female</td>\n",
       "      <td>55,000-70,000</td>\n",
       "      <td>entry</td>\n",
       "      <td>1.0</td>\n",
       "      <td>0.183751</td>\n",
       "      <td>0.422831</td>\n",
       "    </tr>\n",
       "    <tr>\n",
       "      <th>1</th>\n",
       "      <td>318867441</td>\n",
       "      <td>apparel &amp; fashion</td>\n",
       "      <td>female</td>\n",
       "      <td>70,000-85,000</td>\n",
       "      <td>entry</td>\n",
       "      <td>1.0</td>\n",
       "      <td>0.183751</td>\n",
       "      <td>0.610658</td>\n",
       "    </tr>\n",
       "    <tr>\n",
       "      <th>2</th>\n",
       "      <td>66424919</td>\n",
       "      <td>farming</td>\n",
       "      <td>male</td>\n",
       "      <td>100,000-150,000</td>\n",
       "      <td>director</td>\n",
       "      <td>2.0</td>\n",
       "      <td>0.138514</td>\n",
       "      <td>0.456456</td>\n",
       "    </tr>\n",
       "    <tr>\n",
       "      <th>3</th>\n",
       "      <td>159358353</td>\n",
       "      <td>oil &amp; energy</td>\n",
       "      <td>female</td>\n",
       "      <td>35,000-45,000</td>\n",
       "      <td>entry</td>\n",
       "      <td>1.0</td>\n",
       "      <td>0.194039</td>\n",
       "      <td>0.118461</td>\n",
       "    </tr>\n",
       "    <tr>\n",
       "      <th>4</th>\n",
       "      <td>361681412</td>\n",
       "      <td>renewables &amp; environment</td>\n",
       "      <td>female</td>\n",
       "      <td>55,000-70,000</td>\n",
       "      <td>partner</td>\n",
       "      <td>NaN</td>\n",
       "      <td>0.000000</td>\n",
       "      <td>0.097089</td>\n",
       "    </tr>\n",
       "    <tr>\n",
       "      <th>...</th>\n",
       "      <td>...</td>\n",
       "      <td>...</td>\n",
       "      <td>...</td>\n",
       "      <td>...</td>\n",
       "      <td>...</td>\n",
       "      <td>...</td>\n",
       "      <td>...</td>\n",
       "      <td>...</td>\n",
       "    </tr>\n",
       "    <tr>\n",
       "      <th>995</th>\n",
       "      <td>228944549</td>\n",
       "      <td>internet</td>\n",
       "      <td>male</td>\n",
       "      <td>35,000-45,000</td>\n",
       "      <td>manager</td>\n",
       "      <td>3.0</td>\n",
       "      <td>0.348789</td>\n",
       "      <td>0.021655</td>\n",
       "    </tr>\n",
       "    <tr>\n",
       "      <th>996</th>\n",
       "      <td>317740605</td>\n",
       "      <td>internet</td>\n",
       "      <td>male</td>\n",
       "      <td>45,000-55,000</td>\n",
       "      <td>manager</td>\n",
       "      <td>13.0</td>\n",
       "      <td>0.920283</td>\n",
       "      <td>0.041389</td>\n",
       "    </tr>\n",
       "    <tr>\n",
       "      <th>997</th>\n",
       "      <td>404431852</td>\n",
       "      <td>internet</td>\n",
       "      <td>female</td>\n",
       "      <td>55,000-70,000</td>\n",
       "      <td>manager</td>\n",
       "      <td>1.0</td>\n",
       "      <td>0.080061</td>\n",
       "      <td>0.079347</td>\n",
       "    </tr>\n",
       "    <tr>\n",
       "      <th>998</th>\n",
       "      <td>14697760</td>\n",
       "      <td>internet</td>\n",
       "      <td>female</td>\n",
       "      <td>55,000-70,000</td>\n",
       "      <td>manager</td>\n",
       "      <td>2.0</td>\n",
       "      <td>0.224300</td>\n",
       "      <td>0.079347</td>\n",
       "    </tr>\n",
       "    <tr>\n",
       "      <th>999</th>\n",
       "      <td>268162132</td>\n",
       "      <td>internet</td>\n",
       "      <td>female</td>\n",
       "      <td>70,000-85,000</td>\n",
       "      <td>manager</td>\n",
       "      <td>NaN</td>\n",
       "      <td>0.000000</td>\n",
       "      <td>0.177263</td>\n",
       "    </tr>\n",
       "  </tbody>\n",
       "</table>\n",
       "<p>1000 rows × 8 columns</p>\n",
       "</div>"
      ],
      "text/plain": [
       "     person_id                  industry  gender  inferred_salary     level  \\\n",
       "0    412445546         apparel & fashion  female    55,000-70,000     entry   \n",
       "1    318867441         apparel & fashion  female    70,000-85,000     entry   \n",
       "2     66424919                   farming    male  100,000-150,000  director   \n",
       "3    159358353              oil & energy  female    35,000-45,000     entry   \n",
       "4    361681412  renewables & environment  female    55,000-70,000   partner   \n",
       "..         ...                       ...     ...              ...       ...   \n",
       "995  228944549                  internet    male    35,000-45,000   manager   \n",
       "996  317740605                  internet    male    45,000-55,000   manager   \n",
       "997  404431852                  internet  female    55,000-70,000   manager   \n",
       "998   14697760                  internet  female    55,000-70,000   manager   \n",
       "999  268162132                  internet  female    70,000-85,000   manager   \n",
       "\n",
       "     tenure  tenure_percentile  salary_percentile  \n",
       "0       1.0           0.183751           0.422831  \n",
       "1       1.0           0.183751           0.610658  \n",
       "2       2.0           0.138514           0.456456  \n",
       "3       1.0           0.194039           0.118461  \n",
       "4       NaN           0.000000           0.097089  \n",
       "..      ...                ...                ...  \n",
       "995     3.0           0.348789           0.021655  \n",
       "996    13.0           0.920283           0.041389  \n",
       "997     1.0           0.080061           0.079347  \n",
       "998     2.0           0.224300           0.079347  \n",
       "999     NaN           0.000000           0.177263  \n",
       "\n",
       "[1000 rows x 8 columns]"
      ]
     },
     "execution_count": 7,
     "metadata": {},
     "output_type": "execute_result"
    }
   ],
   "source": [
    "df = pd.read_csv(\"data/dump.csv\")\n"
   ]
  },
  {
   "cell_type": "code",
   "execution_count": 10,
   "id": "a3ddae49-a434-44a9-828a-3eff0dcf0a30",
   "metadata": {},
   "outputs": [
    {
     "data": {
      "application/mercury+json": "{\n    \"widget\": \"App\",\n    \"title\": \"Financial dashboard\",\n    \"description\": \"Dashboard with financial data\",\n    \"show_code\": false,\n    \"show_prompt\": false,\n    \"output\": \"app\",\n    \"schedule\": \"\",\n    \"notify\": \"{}\",\n    \"continuous_update\": true,\n    \"static_notebook\": false,\n    \"show_sidebar\": true,\n    \"full_screen\": true,\n    \"allow_download\": true,\n    \"stop_on_error\": false,\n    \"model_id\": \"mercury-app\",\n    \"code_uid\": \"App.0.40.25.1-rand4b2bee26\"\n}",
      "text/html": [
       "<h3>Mercury Application</h3><small>This output won't appear in the web app.</small>"
      ],
      "text/plain": [
       "mercury.App"
      ]
     },
     "metadata": {},
     "output_type": "display_data"
    }
   ],
   "source": [
    "app = mr.App(title=\"Redunida dashboard\", description=\"Dashboard with HR data\")"
   ]
  },
  {
   "cell_type": "code",
   "execution_count": 32,
   "id": "9e663caa-7924-4609-9a53-aee635533cd1",
   "metadata": {},
   "outputs": [
    {
     "data": {
      "application/mercury+json": "{\n    \"widget\": \"Select\",\n    \"value\": \"oil & energy\",\n    \"choices\": [\n        \"apparel & fashion\",\n        \"oil & energy\",\n        \"internet\",\n        \"renewables & environment\\t\",\n        \"farming\",\n        \"software engineering\"\n    ],\n    \"label\": \"Select industry\",\n    \"model_id\": \"512aef37cc6446c0be1573849fbd3a83\",\n    \"code_uid\": \"Select.0.40.16.1-rand1b695b04\",\n    \"url_key\": \"\",\n    \"disabled\": false,\n    \"hidden\": false\n}",
      "application/vnd.jupyter.widget-view+json": {
       "model_id": "512aef37cc6446c0be1573849fbd3a83",
       "version_major": 2,
       "version_minor": 0
      },
      "text/plain": [
       "mercury.Select"
      ]
     },
     "metadata": {},
     "output_type": "display_data"
    },
    {
     "data": {
      "application/mercury+json": "{\n    \"widget\": \"Slider\",\n    \"value\": 5,\n    \"min\": 0,\n    \"max\": 10,\n    \"step\": 1,\n    \"label\": \"Select tenure (in years)\",\n    \"model_id\": \"ee50aaa6594248a6a306d7092c25722b\",\n    \"code_uid\": \"Slider.0.40.36.5-rand11486ed8\",\n    \"url_key\": \"\",\n    \"disabled\": false,\n    \"hidden\": false\n}",
      "application/vnd.jupyter.widget-view+json": {
       "model_id": "ee50aaa6594248a6a306d7092c25722b",
       "version_major": 2,
       "version_minor": 0
      },
      "text/plain": [
       "mercury.Slider"
      ]
     },
     "metadata": {},
     "output_type": "display_data"
    }
   ],
   "source": [
    "industry = mr.Select(value=\"oil & energy\", \n",
    "                   choices=[\"apparel & fashion\",'oil & energy', \"internet\", \"renewables & environment\t\", \"farming\", \"software engineering\"], \n",
    "                   label=\"Select industry\")\n",
    "\n",
    "tenure = mr.Slider(value=5, min=0, max=10, label=\"Select tenure (in years)\", step=1)\n"
   ]
  },
  {
   "cell_type": "code",
   "execution_count": null,
   "id": "dfe69ec3-1cee-43d7-8deb-9a38260dd874",
   "metadata": {},
   "outputs": [],
   "source": [
    "sample=df.loc[(df['industry']==industry.value) & (df['tenure']<tenure.value)]\n",
    "sample"
   ]
  },
  {
   "cell_type": "code",
   "execution_count": 30,
   "id": "96bedad7-d3a8-4e17-b996-3245d743024e",
   "metadata": {},
   "outputs": [
    {
     "data": {
      "image/png": "[encoded data removed]",
      "text/plain": [
       "<Figure size 640x480 with 3 Axes>"
      ]
     },
     "metadata": {
      "image/png": {
       "height": 480,
       "width": 640
      }
     },
     "output_type": "display_data"
    },
    {
     "data": {
      "text/plain": [
       "<Figure Size: (640 x 480)>"
      ]
     },
     "execution_count": 30,
     "metadata": {},
     "output_type": "execute_result"
    }
   ],
   "source": [
    "\n",
    "(\n",
    "    ggplot(sample,aes('level','tenure_percentile'))+\n",
    "    stat_summary(fun_y=np.mean,geom='bar')+\n",
    "    stat_summary(fun_data='mean_cl_normal',geom='errorbar')+\n",
    "    facet_wrap('~ gender')+\n",
    "    coord_flip()\n",
    ")"
   ]
  }
 ],
 "metadata": {
  "kernelspec": {
   "display_name": "Python 3 (ipykernel)",
   "language": "python",
   "name": "python3"
  },
  "language_info": {
   "codemirror_mode": {
    "name": "ipython",
    "version": 3
   },
   "file_extension": ".py",
   "mimetype": "text/x-python",
   "name": "python",
   "nbconvert_exporter": "python",
   "pygments_lexer": "ipython3",
   "version": "3.11.6"
  }
 },
 "nbformat": 4,
 "nbformat_minor": 5
}
